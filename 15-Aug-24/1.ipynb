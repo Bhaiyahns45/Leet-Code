{
 "cells": [
  {
   "cell_type": "code",
   "execution_count": 16,
   "metadata": {},
   "outputs": [],
   "source": [
    "a = \"sisdsanfjdadifj\""
   ]
  },
  {
   "cell_type": "code",
   "execution_count": 17,
   "metadata": {},
   "outputs": [
    {
     "name": "stdout",
     "output_type": "stream",
     "text": [
      "{'s': 1}\n",
      "{'s': 1, 'i': 1}\n",
      "{'s': 2, 'i': 1}\n",
      "{'s': 2, 'i': 1, 'd': 1}\n",
      "{'s': 3, 'i': 1, 'd': 1}\n",
      "{'s': 3, 'i': 1, 'd': 1, 'a': 1}\n",
      "{'s': 3, 'i': 1, 'd': 1, 'a': 1, 'n': 1}\n",
      "{'s': 3, 'i': 1, 'd': 1, 'a': 1, 'n': 1, 'f': 1}\n",
      "{'s': 3, 'i': 1, 'd': 1, 'a': 1, 'n': 1, 'f': 1, 'j': 1}\n",
      "{'s': 3, 'i': 1, 'd': 2, 'a': 1, 'n': 1, 'f': 1, 'j': 1}\n",
      "{'s': 3, 'i': 1, 'd': 2, 'a': 2, 'n': 1, 'f': 1, 'j': 1}\n",
      "{'s': 3, 'i': 1, 'd': 3, 'a': 2, 'n': 1, 'f': 1, 'j': 1}\n",
      "{'s': 3, 'i': 2, 'd': 3, 'a': 2, 'n': 1, 'f': 1, 'j': 1}\n",
      "{'s': 3, 'i': 2, 'd': 3, 'a': 2, 'n': 1, 'f': 2, 'j': 1}\n",
      "{'s': 3, 'i': 2, 'd': 3, 'a': 2, 'n': 1, 'f': 2, 'j': 2}\n"
     ]
    }
   ],
   "source": [
    "d1 = {}\n",
    "\n",
    "for i in a:\n",
    "    d1[i] = d1.get(i,0) + 1\n",
    "    print(d1)"
   ]
  },
  {
   "cell_type": "code",
   "execution_count": 18,
   "metadata": {},
   "outputs": [
    {
     "data": {
      "text/plain": [
       "{'s': 3, 'i': 2, 'd': 3, 'a': 2, 'n': 1, 'f': 2, 'j': 2}"
      ]
     },
     "execution_count": 18,
     "metadata": {},
     "output_type": "execute_result"
    }
   ],
   "source": [
    "d1"
   ]
  },
  {
   "cell_type": "code",
   "execution_count": null,
   "metadata": {},
   "outputs": [],
   "source": []
  },
  {
   "cell_type": "code",
   "execution_count": 5,
   "metadata": {},
   "outputs": [
    {
     "name": "stdout",
     "output_type": "stream",
     "text": [
      "{'brand': 'Ford', 'year': 1964}\n"
     ]
    }
   ],
   "source": [
    "car = {\n",
    "  \"brand\": \"Ford\",\n",
    "  \"model\": \"Mustang\",\n",
    "  \"year\": 1964\n",
    "}\n",
    "\n",
    "car.pop(\"model\")\n",
    "\n",
    "print(car)"
   ]
  },
  {
   "cell_type": "code",
   "execution_count": 19,
   "metadata": {},
   "outputs": [],
   "source": [
    "l= [10]"
   ]
  },
  {
   "cell_type": "code",
   "execution_count": 20,
   "metadata": {},
   "outputs": [
    {
     "ename": "ValueError",
     "evalue": "list.remove(x): x not in list",
     "output_type": "error",
     "traceback": [
      "\u001b[1;31m---------------------------------------------------------------------------\u001b[0m",
      "\u001b[1;31mValueError\u001b[0m                                Traceback (most recent call last)",
      "Cell \u001b[1;32mIn[20], line 1\u001b[0m\n\u001b[1;32m----> 1\u001b[0m \u001b[43ml\u001b[49m\u001b[38;5;241;43m.\u001b[39;49m\u001b[43mremove\u001b[49m\u001b[43m(\u001b[49m\u001b[38;5;241;43m455\u001b[39;49m\u001b[43m)\u001b[49m\n",
      "\u001b[1;31mValueError\u001b[0m: list.remove(x): x not in list"
     ]
    }
   ],
   "source": [
    "l.remove(455)"
   ]
  },
  {
   "cell_type": "code",
   "execution_count": null,
   "metadata": {},
   "outputs": [],
   "source": []
  },
  {
   "cell_type": "code",
   "execution_count": null,
   "metadata": {},
   "outputs": [],
   "source": [
    "class Solution:\n",
    "    def lemonadeChange(self, bills: List[int]) -> bool:\n",
    "\n",
    "        l = {}\n",
    "\n",
    "        for i in bills:\n",
    "            l[str(i)] = l.get(str(i),0) + 1\n",
    "\n",
    "            if i == 10:\n",
    "                if l.get('5', False) and l['5'] > 0:\n",
    "                    l['5'] -= 1\n",
    "                else:\n",
    "                    return False\n",
    "            elif i == 20:\n",
    "                if l.get('5', False) and l['5'] > 0 and l.get('10', False) and l['10'] > 0:\n",
    "                    l['5'] -= 1\n",
    "                    l['10'] -= 1\n",
    "                elif l.get('5', False) and l['5'] > 2:\n",
    "                    l['5'] -= 3\n",
    "                else:\n",
    "                    return False\n",
    "\n",
    "        return True\n",
    "                \n",
    "\n",
    "        "
   ]
  },
  {
   "cell_type": "code",
   "execution_count": null,
   "metadata": {},
   "outputs": [],
   "source": []
  },
  {
   "cell_type": "code",
   "execution_count": null,
   "metadata": {},
   "outputs": [],
   "source": []
  }
 ],
 "metadata": {
  "kernelspec": {
   "display_name": "Python 3",
   "language": "python",
   "name": "python3"
  },
  "language_info": {
   "codemirror_mode": {
    "name": "ipython",
    "version": 3
   },
   "file_extension": ".py",
   "mimetype": "text/x-python",
   "name": "python",
   "nbconvert_exporter": "python",
   "pygments_lexer": "ipython3",
   "version": "3.10.10"
  }
 },
 "nbformat": 4,
 "nbformat_minor": 2
}
